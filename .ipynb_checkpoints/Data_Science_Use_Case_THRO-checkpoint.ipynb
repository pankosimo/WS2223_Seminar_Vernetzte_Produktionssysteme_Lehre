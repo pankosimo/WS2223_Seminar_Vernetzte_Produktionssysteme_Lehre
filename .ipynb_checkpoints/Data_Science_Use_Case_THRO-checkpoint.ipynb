{
 "cells": [
  {
   "cell_type": "markdown",
   "id": "97f0b5f2",
   "metadata": {},
   "source": [
    "# Laden von Paketen"
   ]
  },
  {
   "cell_type": "markdown",
   "id": "aa164583",
   "metadata": {},
   "source": [
    "In den folgenden Code-Blöcken werden Pakete sowie einige Einstellungen zum Benutzen von Jupyter Notebooks geladen. Diese Code-Zeilen sollten einfach so wie voreingestellt ausgeführt werden.<br><br>Zum Kennenlernen der Bedienung von Jupyter Notebooks folgen anbei 2 Links"
   ]
  },
  {
   "cell_type": "markdown",
   "id": "eb986ac5",
   "metadata": {},
   "source": [
    "[Einführung Jupyter Notebooks 1](https://www.dataquest.io/blog/jupyter-notebook-tutorial/)<br><br>\n",
    "[Einführung Jupyter Notebooks 2](https://tacc.github.io/CSC2017Institute/docs/day1/jupyter.html)"
   ]
  },
  {
   "cell_type": "code",
   "execution_count": null,
   "id": "3efd6558",
   "metadata": {
    "ExecuteTime": {
     "end_time": "2022-11-21T12:58:31.098997Z",
     "start_time": "2022-11-21T12:58:31.074406Z"
    }
   },
   "outputs": [],
   "source": [
    "from IPython.core.display import display, HTML\n",
    "display(HTML(\"<style>.container { width:100% !important; }</style>\"))\n",
    "import warnings\n",
    "warnings.filterwarnings('ignore')"
   ]
  },
  {
   "cell_type": "code",
   "execution_count": null,
   "id": "3e8add0f",
   "metadata": {
    "ExecuteTime": {
     "end_time": "2022-11-21T12:58:39.389639Z",
     "start_time": "2022-11-21T12:58:31.939038Z"
    }
   },
   "outputs": [],
   "source": [
    "import pandas as pd\n",
    "import numpy as np\n",
    "import matplotlib as mpl\n",
    "import matplotlib.pyplot as plt\n",
    "from sklearn.ensemble import RandomForestClassifier,RandomForestRegressor\n",
    "from sklearn.metrics import mean_squared_error,accuracy_score,confusion_matrix\n",
    "from sklearn.model_selection import train_test_split\n",
    "import seaborn as sns\n",
    "from sklearn.tree import export_graphviz\n",
    "from subprocess import call\n",
    "from IPython.display import Image\n",
    "from scipy.integrate import odeint\n",
    "from sklearn.ensemble import RandomForestClassifier\n",
    "from sklearn.metrics import accuracy_score, confusion_matrix, classification_report\n",
    "%matplotlib inline\n",
    "\n"
   ]
  },
  {
   "cell_type": "code",
   "execution_count": null,
   "id": "0ecd5a31",
   "metadata": {
    "ExecuteTime": {
     "end_time": "2022-11-05T21:43:06.396943Z",
     "start_time": "2022-11-05T21:43:06.382981Z"
    }
   },
   "outputs": [],
   "source": [
    "mpl.rc('figure', max_open_warning = 0)\n",
    "mpl.rcParams['figure.figsize']=(25,10)\n",
    "rc={'figure.figsize':(20,10),\n",
    "'axes.titlesize':26,\n",
    "'legend.fontsize':26,\n",
    "'axes.labelsize':26,\n",
    "'axes.labelweight':'bold',\n",
    "'xtick.labelsize':20,\n",
    "'ytick.labelsize':20,\n",
    "'lines.linewidth':5,\n",
    "'axes.facecolor': '.9',\n",
    "'grid.linestyle': '--',\n",
    "'grid.linewidth': 2\n",
    "\n",
    "}\n",
    "mpl.rcParams.update(rc)\n",
    "plt.style.use('seaborn-darkgrid')\n"
   ]
  },
  {
   "cell_type": "markdown",
   "id": "37b57288",
   "metadata": {},
   "source": [
    "# Python Intro"
   ]
  },
  {
   "cell_type": "markdown",
   "id": "3f6114d8",
   "metadata": {},
   "source": [
    "Beispielcode zu verschiedenen Python-Konzepten"
   ]
  },
  {
   "cell_type": "markdown",
   "id": "f8c1c4ca",
   "metadata": {
    "ExecuteTime": {
     "end_time": "2019-12-11T13:41:36.127830Z",
     "start_time": "2019-12-11T13:41:36.125397Z"
    }
   },
   "source": [
    "## Variable types"
   ]
  },
  {
   "cell_type": "markdown",
   "id": "7bc94fab",
   "metadata": {},
   "source": [
    "### Lists"
   ]
  },
  {
   "cell_type": "code",
   "execution_count": null,
   "id": "db7d9d5f",
   "metadata": {
    "ExecuteTime": {
     "end_time": "2022-11-05T21:43:06.411925Z",
     "start_time": "2022-11-05T21:43:06.399049Z"
    }
   },
   "outputs": [],
   "source": [
    "list_of_variables = ['Hallo','am','Campus','Burghausen','der','TH','Rosenheim']"
   ]
  },
  {
   "cell_type": "code",
   "execution_count": null,
   "id": "c061e15a",
   "metadata": {
    "ExecuteTime": {
     "end_time": "2022-11-05T21:43:06.427471Z",
     "start_time": "2022-11-05T21:43:06.413060Z"
    }
   },
   "outputs": [],
   "source": [
    "list_of_variables"
   ]
  },
  {
   "cell_type": "code",
   "execution_count": null,
   "id": "2a408cea",
   "metadata": {
    "ExecuteTime": {
     "end_time": "2022-11-05T21:43:06.443103Z",
     "start_time": "2022-11-05T21:43:06.428484Z"
    }
   },
   "outputs": [],
   "source": [
    "list_of_variables[2]"
   ]
  },
  {
   "cell_type": "code",
   "execution_count": null,
   "id": "80eba4c4",
   "metadata": {
    "ExecuteTime": {
     "end_time": "2022-11-05T21:43:06.458374Z",
     "start_time": "2022-11-05T21:43:06.445276Z"
    }
   },
   "outputs": [],
   "source": [
    "list_of_variables[0]"
   ]
  },
  {
   "cell_type": "code",
   "execution_count": null,
   "id": "4edb82e9",
   "metadata": {
    "ExecuteTime": {
     "end_time": "2022-11-05T21:43:06.474297Z",
     "start_time": "2022-11-05T21:43:06.459945Z"
    }
   },
   "outputs": [],
   "source": [
    "list_of_variables[1:3]"
   ]
  },
  {
   "cell_type": "code",
   "execution_count": null,
   "id": "068354bd",
   "metadata": {
    "ExecuteTime": {
     "end_time": "2022-11-05T21:43:06.489412Z",
     "start_time": "2022-11-05T21:43:06.477364Z"
    }
   },
   "outputs": [],
   "source": [
    "list_of_variables[-2:]"
   ]
  },
  {
   "cell_type": "markdown",
   "id": "6b5d8a82",
   "metadata": {},
   "source": [
    "### Strings"
   ]
  },
  {
   "cell_type": "code",
   "execution_count": null,
   "id": "ec7d9054",
   "metadata": {
    "ExecuteTime": {
     "end_time": "2022-11-05T21:43:06.504632Z",
     "start_time": "2022-11-05T21:43:06.490921Z"
    }
   },
   "outputs": [],
   "source": [
    "tag_string = 'T1234'"
   ]
  },
  {
   "cell_type": "code",
   "execution_count": null,
   "id": "a764a60e",
   "metadata": {
    "ExecuteTime": {
     "end_time": "2022-11-05T21:43:06.520040Z",
     "start_time": "2022-11-05T21:43:06.506840Z"
    }
   },
   "outputs": [],
   "source": [
    "tag_string"
   ]
  },
  {
   "cell_type": "code",
   "execution_count": null,
   "id": "d81e2c05",
   "metadata": {
    "ExecuteTime": {
     "end_time": "2022-11-05T21:43:06.535786Z",
     "start_time": "2022-11-05T21:43:06.522123Z"
    }
   },
   "outputs": [],
   "source": [
    "tag_string[2:]"
   ]
  },
  {
   "cell_type": "markdown",
   "id": "0a74ef11",
   "metadata": {},
   "source": [
    "### Dictionary"
   ]
  },
  {
   "cell_type": "code",
   "execution_count": null,
   "id": "08acfe06",
   "metadata": {
    "ExecuteTime": {
     "end_time": "2022-11-05T21:43:06.551485Z",
     "start_time": "2022-11-05T21:43:06.536793Z"
    }
   },
   "outputs": [],
   "source": [
    "dummy_dictionary={'Hase':'rabbit','Baum':'Tree','Zug':'Train'}"
   ]
  },
  {
   "cell_type": "code",
   "execution_count": null,
   "id": "a149fa71",
   "metadata": {
    "ExecuteTime": {
     "end_time": "2022-11-05T21:43:06.566599Z",
     "start_time": "2022-11-05T21:43:06.552656Z"
    }
   },
   "outputs": [],
   "source": [
    "dummy_dictionary['Baum']"
   ]
  },
  {
   "cell_type": "code",
   "execution_count": null,
   "id": "3771590e",
   "metadata": {
    "ExecuteTime": {
     "end_time": "2022-11-05T21:43:06.581773Z",
     "start_time": "2022-11-05T21:43:06.568123Z"
    }
   },
   "outputs": [],
   "source": [
    "Variablen_translator={\"good\":\"black\", \"bad\":\"red\"}"
   ]
  },
  {
   "cell_type": "code",
   "execution_count": null,
   "id": "4201cb29",
   "metadata": {
    "ExecuteTime": {
     "end_time": "2022-11-05T21:43:06.597739Z",
     "start_time": "2022-11-05T21:43:06.583796Z"
    }
   },
   "outputs": [],
   "source": [
    "Variablen_translator['good']"
   ]
  },
  {
   "cell_type": "markdown",
   "id": "36f130e9",
   "metadata": {},
   "source": [
    "## Iteration"
   ]
  },
  {
   "cell_type": "code",
   "execution_count": null,
   "id": "fff88456",
   "metadata": {
    "ExecuteTime": {
     "end_time": "2022-11-05T21:43:06.613340Z",
     "start_time": "2022-11-05T21:43:06.599748Z"
    }
   },
   "outputs": [],
   "source": [
    "for i in range(4):\n",
    "    print(i)"
   ]
  },
  {
   "cell_type": "code",
   "execution_count": null,
   "id": "2fc72433",
   "metadata": {
    "ExecuteTime": {
     "end_time": "2022-11-05T21:43:06.628885Z",
     "start_time": "2022-11-05T21:43:06.614527Z"
    }
   },
   "outputs": [],
   "source": [
    "for var in list_of_variables:\n",
    "    print(var)"
   ]
  },
  {
   "cell_type": "markdown",
   "id": "7558c2f6",
   "metadata": {},
   "source": [
    "## Functions"
   ]
  },
  {
   "cell_type": "code",
   "execution_count": null,
   "id": "c5e18a74",
   "metadata": {
    "ExecuteTime": {
     "end_time": "2022-11-05T21:43:06.644843Z",
     "start_time": "2022-11-05T21:43:06.630988Z"
    }
   },
   "outputs": [],
   "source": [
    "def dummy_function(x):\n",
    "    y = 2 * x\n",
    "    return y"
   ]
  },
  {
   "cell_type": "code",
   "execution_count": null,
   "id": "ad15b7ed",
   "metadata": {
    "ExecuteTime": {
     "end_time": "2022-11-05T21:43:06.660776Z",
     "start_time": "2022-11-05T21:43:06.646842Z"
    }
   },
   "outputs": [],
   "source": [
    "result = dummy_function(10)"
   ]
  },
  {
   "cell_type": "code",
   "execution_count": null,
   "id": "91bedf3f",
   "metadata": {
    "ExecuteTime": {
     "end_time": "2022-11-05T21:43:06.676833Z",
     "start_time": "2022-11-05T21:43:06.662339Z"
    }
   },
   "outputs": [],
   "source": [
    "print(result)"
   ]
  },
  {
   "cell_type": "markdown",
   "id": "d0f1bcbf",
   "metadata": {
    "ExecuteTime": {
     "end_time": "2022-11-05T21:14:29.656669Z",
     "start_time": "2022-11-05T21:14:29.641545Z"
    }
   },
   "source": [
    "# Aufgabe 1"
   ]
  },
  {
   "cell_type": "markdown",
   "id": "bc15d9c7",
   "metadata": {},
   "source": [
    "Laden Sie die die beiden Dateien \"Example_Process_Data.xlsx\" und \"Example_Quality_data.xlsx\" in ein Pandas-Dataframe!<br> Hinweis: Ergänzen Sie den Aufruf des entsprechenden Befehls um ein Argument, so dass für die Index-Spalte des DataFrame die 1.Spalte der Excel-Datei verwendet wird!\n",
    "<br><br> Hinweise zum Szenario: Sie finden in den Dateien den Temperaturverlauf zur Aufheizung für den Start einer chemischen Reaktion für 500 Batche. Dazu wird für jeden Batch angegeben, ob dieser \"gut\" oder \"schlecht\" gelaufen ist. Ziel wird sein, aus dem Temperaturverlauf abzuleiten, wie die Qualität der Batches war um so später ein prädiktives Modell während des Prozesses mitlaufen lassen zu können"
   ]
  },
  {
   "cell_type": "markdown",
   "id": "21ac9298",
   "metadata": {},
   "source": [
    "Hinweise zur Lösung<br><br>\n",
    "[https://pandas.pydata.org/docs/reference/api/pandas.read_excel.html](https://pandas.pydata.org/docs/reference/api/pandas.read_excel.html)"
   ]
  },
  {
   "cell_type": "code",
   "execution_count": null,
   "id": "5a9c3d0d",
   "metadata": {
    "ExecuteTime": {
     "end_time": "2022-11-05T21:43:07.081498Z",
     "start_time": "2022-11-05T21:43:06.677945Z"
    }
   },
   "outputs": [],
   "source": [
    "process_data = pd.read_excel('Example_Process_Data.xlsx', index_col = 0)\n",
    "quality_data = pd.read_excel('Example_Quality_data.xlsx', index_col = 0)"
   ]
  },
  {
   "cell_type": "markdown",
   "id": "f9baed16",
   "metadata": {},
   "source": [
    "# Aufgabe 2"
   ]
  },
  {
   "cell_type": "markdown",
   "id": "bb386d9c",
   "metadata": {},
   "source": [
    "Plotten Sie alle Temperaturverläufe gegen die Prozesszeit!"
   ]
  },
  {
   "cell_type": "markdown",
   "id": "ea05f10a",
   "metadata": {},
   "source": [
    "Hinweise zur Lösung <br><br>[https://matplotlib.org/stable/gallery/subplots_axes_and_figures/subplots_demo.html](https://matplotlib.org/stable/gallery/subplots_axes_and_figures/subplots_demo.html)"
   ]
  },
  {
   "cell_type": "code",
   "execution_count": null,
   "id": "ad1c357a",
   "metadata": {
    "ExecuteTime": {
     "end_time": "2022-11-05T21:43:07.543587Z",
     "start_time": "2022-11-05T21:43:07.082541Z"
    }
   },
   "outputs": [],
   "source": []
  },
  {
   "cell_type": "markdown",
   "id": "4978412e",
   "metadata": {
    "ExecuteTime": {
     "end_time": "2022-11-05T21:24:23.089653Z",
     "start_time": "2022-11-05T21:24:23.073964Z"
    }
   },
   "source": [
    "# Aufgabe 3"
   ]
  },
  {
   "cell_type": "markdown",
   "id": "d9755aa8",
   "metadata": {},
   "source": [
    "Wiederholen Sie das plotten und färben diesmal alle Batches der Qualität \"good\" bzw. der Qualität \"bad\" mit derselben Farbe ein!<br><br>Können Sie anhand der Darstellung bereits Aussagen treffen, was wohl zu einem guten bzw. schlechten Ergebnis geführt hat?"
   ]
  },
  {
   "cell_type": "markdown",
   "id": "4ebe53e4",
   "metadata": {
    "ExecuteTime": {
     "end_time": "2022-11-05T21:24:17.741787Z",
     "start_time": "2022-11-05T21:24:17.729151Z"
    }
   },
   "source": [
    "Hinweise zur Lösung<br><br>Setzen von Farben in Matplotlib-Plots (Abschnitt Colors): [https://www.w3schools.com/python/matplotlib_scatter.asp](https://www.w3schools.com/python/matplotlib_scatter.asp)\n",
    "<br><br> Erstellen Sie ein Dictionary, dass den Eintrag \"good\" bzw. \"bad\" in eine Farbe übersetzt! Iterieren Sie über alle Einträge im Dataframe und führen die Übersetzung jedesmal neu aus!"
   ]
  },
  {
   "cell_type": "code",
   "execution_count": null,
   "id": "3f28db7f",
   "metadata": {
    "ExecuteTime": {
     "end_time": "2022-11-05T21:43:08.070023Z",
     "start_time": "2022-11-05T21:43:07.546597Z"
    }
   },
   "outputs": [],
   "source": []
  },
  {
   "cell_type": "markdown",
   "id": "ecc8e019",
   "metadata": {},
   "source": [
    "# Aufgabe 4"
   ]
  },
  {
   "cell_type": "markdown",
   "id": "e97ae22b",
   "metadata": {},
   "source": [
    "Erstellen Sie ein DataFrame, in dem Sie für jeden Batch entsprechende Feature abspeichern!<br><br>Vorschläge für Feature: Maximaler Wert, Minimaler Wert, Mittelwert zwischen maximalem und minimalem Wert, Median, Zeit bis Mittelwert erreicht wurde, Zeit bis 95% des Maximalwerts erreicht wurde, Zeit bis 5% über Minimalwert erreicht wurde, Dauer zwischen 5% über Minimalwert und 95% des Maximalwerts"
   ]
  },
  {
   "cell_type": "markdown",
   "id": "d4336c20",
   "metadata": {},
   "source": [
    "Hinweise zur Lösung\n",
    "<br><br>\n",
    "Fügen Sie Spalte des Qualitätsparameters ebenfalls mit an!\n",
    "<br><br>\n",
    "[https://pythoninoffice.com/how-to-find-the-closest-value-to-an-input-in-pandas/](https://pythoninoffice.com/how-to-find-the-closest-value-to-an-input-in-pandas/)\n"
   ]
  },
  {
   "cell_type": "code",
   "execution_count": null,
   "id": "3f87be47",
   "metadata": {
    "ExecuteTime": {
     "end_time": "2022-11-05T21:43:08.641217Z",
     "start_time": "2022-11-05T21:43:08.071477Z"
    }
   },
   "outputs": [],
   "source": []
  },
  {
   "cell_type": "markdown",
   "id": "de0a58c6",
   "metadata": {},
   "source": [
    "# Aufgabe 5"
   ]
  },
  {
   "cell_type": "markdown",
   "id": "755a04a7",
   "metadata": {},
   "source": [
    "Erstellen Sie einen Pairplot der ermittelten Feature und färben diesen entsprechend der Qualität des Batches ein! Können Sie hier bereits ableiten, welche Eigenschaften für eine Klassifizierung \"gut\" und \"schlecht\" geeignet sind?"
   ]
  },
  {
   "cell_type": "markdown",
   "id": "6036e446",
   "metadata": {},
   "source": [
    "Hinweise zur Lösung\n",
    "<br><br>[https://seaborn.pydata.org/generated/seaborn.pairplot.html](https://seaborn.pydata.org/generated/seaborn.pairplot.html)"
   ]
  },
  {
   "cell_type": "code",
   "execution_count": null,
   "id": "5dec338c",
   "metadata": {
    "ExecuteTime": {
     "end_time": "2022-11-05T21:43:23.856085Z",
     "start_time": "2022-11-05T21:43:08.643627Z"
    },
    "scrolled": false
   },
   "outputs": [],
   "source": []
  },
  {
   "cell_type": "markdown",
   "id": "54515928",
   "metadata": {},
   "source": [
    "# Aufgabe 6"
   ]
  },
  {
   "cell_type": "markdown",
   "id": "2032739c",
   "metadata": {},
   "source": [
    "Erstellen Sie ein Klassifizierungsmodell mit dem Typ \"RandomForest\" um die Batch-Qualität hervorzusagen und wählen dabei eine geeignete Größe des Trainingsatzes aus! Erstellen Sie ausserdem eine Ausgabe für die Wichtigkeit der Feature! Decken sich diese Ergebnisse mit der optischen Analyse in Aufgabe 5?"
   ]
  },
  {
   "cell_type": "markdown",
   "id": "0f75a714",
   "metadata": {
    "ExecuteTime": {
     "end_time": "2022-11-05T21:34:02.944249Z",
     "start_time": "2022-11-05T21:34:02.924088Z"
    }
   },
   "source": [
    "Hinweise zur Lösung\n",
    "<br><br>\n",
    "[https://www.datacamp.com/tutorial/random-forests-classifier-python](https://www.datacamp.com/tutorial/random-forests-classifier-python)"
   ]
  },
  {
   "cell_type": "code",
   "execution_count": null,
   "id": "dccdb3d1",
   "metadata": {
    "ExecuteTime": {
     "end_time": "2022-11-05T21:43:23.933626Z",
     "start_time": "2022-11-05T21:43:23.859335Z"
    }
   },
   "outputs": [],
   "source": []
  },
  {
   "cell_type": "markdown",
   "id": "493be078",
   "metadata": {},
   "source": [
    "# Aufgabe 7"
   ]
  },
  {
   "cell_type": "markdown",
   "id": "d0c4e30c",
   "metadata": {},
   "source": [
    "Plotten Sie die Konfusionsmatrix und bewerten Sie ihr Modell!"
   ]
  },
  {
   "cell_type": "markdown",
   "id": "575ec9aa",
   "metadata": {},
   "source": [
    "Hinweise zur Lösung\n",
    "<br><br>\n",
    "[https://medium.com/analytics-vidhya/evaluating-a-random-forest-model-9d165595ad56](https://medium.com/analytics-vidhya/evaluating-a-random-forest-model-9d165595ad56)"
   ]
  },
  {
   "cell_type": "code",
   "execution_count": null,
   "id": "45bedea2",
   "metadata": {
    "ExecuteTime": {
     "end_time": "2022-11-05T21:43:24.275749Z",
     "start_time": "2022-11-05T21:43:23.936138Z"
    }
   },
   "outputs": [],
   "source": []
  },
  {
   "cell_type": "code",
   "execution_count": null,
   "id": "fd0b7023",
   "metadata": {},
   "outputs": [],
   "source": []
  }
 ],
 "metadata": {
  "hide_input": false,
  "kernelspec": {
   "display_name": "Python 3 (ipykernel)",
   "language": "python",
   "name": "python3"
  },
  "language_info": {
   "codemirror_mode": {
    "name": "ipython",
    "version": 3
   },
   "file_extension": ".py",
   "mimetype": "text/x-python",
   "name": "python",
   "nbconvert_exporter": "python",
   "pygments_lexer": "ipython3",
   "version": "3.10.2"
  },
  "toc": {
   "base_numbering": 1,
   "nav_menu": {},
   "number_sections": true,
   "sideBar": true,
   "skip_h1_title": false,
   "title_cell": "Table of Contents",
   "title_sidebar": "Contents",
   "toc_cell": false,
   "toc_position": {},
   "toc_section_display": true,
   "toc_window_display": false
  }
 },
 "nbformat": 4,
 "nbformat_minor": 5
}
